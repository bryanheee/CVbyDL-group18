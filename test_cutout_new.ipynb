import pandas as pd
import os

def test_load_labels():
    # Test case 1: Empty labels directory
    labels_dir = "/path/to/empty/labels"
    expected_df = pd.DataFrame(columns=["file_name", "class", "x_center", "y_center", "width", "height"])
    assert load_labels(labels_dir).equals(expected_df), "Test case 1 failed"

    # Test case 2: Non-empty labels directory
    labels_dir = "/path/to/non_empty/labels"
    labels = ["label1.txt", "label2.txt", "label3.txt"]
    expected_df = pd.DataFrame(columns=["file_name", "class", "x_center", "y_center", "width", "height"])
    expected_df = expected_df.append({"file_name": "label1", "class": "class1", "x_center": "0.5", "y_center": "0.5", "width": "0.2", "height": "0.2"}, ignore_index=True)
    expected_df = expected_df.append({"file_name": "label2", "class": "class2", "x_center": "0.3", "y_center": "0.4", "width": "0.1", "height": "0.3"}, ignore_index=True)
    expected_df = expected_df.append({"file_name": "label3", "class": "class3", "x_center": "0.1", "y_center": "0.2", "width": "0.4", "height": "0.5"}, ignore_index=True)
    assert load_labels(labels_dir, labels).equals(expected_df), "Test case 2 failed"

    # Test case 3: Labels with invalid format
    labels_dir = "/path/to/invalid_format/labels"
    labels = ["label1.txt", "label2.txt"]
    expected_df = pd.DataFrame(columns=["file_name", "class", "x_center", "y_center", "width", "height"])
    expected_df = expected_df.append({"file_name": "label1", "class": "class1", "x_center": "0.5", "y_center": "0.5", "width": "0.2", "height": "0.2"}, ignore_index=True)
    assert load_labels(labels_dir, labels).equals(expected_df), "Test case 3 failed"

    print("All test cases passed!")

# Run the tests
test_load_labels()